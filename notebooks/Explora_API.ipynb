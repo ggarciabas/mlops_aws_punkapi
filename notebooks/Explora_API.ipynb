{
  "nbformat": 4,
  "nbformat_minor": 0,
  "metadata": {
    "colab": {
      "name": "Explora API.ipynb",
      "provenance": [],
      "authorship_tag": "ABX9TyOpz33RzI58ItaXkfubXHYL"
    },
    "kernelspec": {
      "name": "python3",
      "display_name": "Python 3"
    },
    "language_info": {
      "name": "python"
    }
  },
  "cells": [
    {
      "cell_type": "markdown",
      "metadata": {
        "id": "iJ6ub4nQWOed"
      },
      "source": [
        "# Explora Punk API\n",
        "<a href=\"https://colab.research.google.com/github/ggarciabas/mlops_aws_punkapi/blob/exp_punkapi/notebooks/Explora_API.ipynb\" target=\"_parent\"><img src=\"https://img.shields.io/badge/Colab-Google?style=for-the-badge&labelColor=white&color=orange&logo=googlecolab\" alt=\"Open In Colab\"/></a>\n",
        "\n",
        "- [Punk API](https://punkapi.com/documentation/v2)\n",
        "- [https://api.punkapi.com/v2/beers/random](https://api.punkapi.com/v2/beers/random)"
      ]
    },
    {
      "cell_type": "code",
      "metadata": {
        "id": "6dtwFyN9WRT6"
      },
      "source": [
        ""
      ],
      "execution_count": null,
      "outputs": []
    }
  ]
}