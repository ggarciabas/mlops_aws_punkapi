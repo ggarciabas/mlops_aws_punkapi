{
  "nbformat": 4,
  "nbformat_minor": 0,
  "metadata": {
    "colab": {
      "name": "Explora API.ipynb",
      "provenance": [],
      "toc_visible": true,
      "authorship_tag": "ABX9TyORL6tW1gurMBw7VKhO153c"
    },
    "kernelspec": {
      "name": "python3",
      "display_name": "Python 3"
    },
    "language_info": {
      "name": "python"
    }
  },
  "cells": [
    {
      "cell_type": "markdown",
      "metadata": {
        "id": "iJ6ub4nQWOed"
      },
      "source": [
        "# Explora Punk API\n",
        "<a href=\"https://colab.research.google.com/github/ggarciabas/mlops_aws_punkapi/blob/exp_punkapi/notebooks/Explora_API.ipynb\" target=\"_parent\"><img src=\"https://img.shields.io/badge/Colab-Google?style=for-the-badge&labelColor=white&color=orange&logo=googlecolab\" alt=\"Open In Colab\"/></a>\n",
        "\n",
        "- [Punk API](https://punkapi.com/documentation/v2)\n",
        "- [https://api.punkapi.com/v2/beers/random](https://api.punkapi.com/v2/beers/random)"
      ]
    },
    {
      "cell_type": "markdown",
      "metadata": {
        "id": "-ZndOVxtXJP9"
      },
      "source": [
        "Requisita cerveja aleatória"
      ]
    },
    {
      "cell_type": "code",
      "metadata": {
        "id": "6dtwFyN9WRT6"
      },
      "source": [
        "import requests\n",
        "import json\n",
        "from pprint import pprint"
      ],
      "execution_count": 28,
      "outputs": []
    },
    {
      "cell_type": "code",
      "metadata": {
        "id": "vdbdZLPMYsgJ"
      },
      "source": [
        "res = requests.get('https://api.punkapi.com/v2/beers/random')\n"
      ],
      "execution_count": 2,
      "outputs": []
    },
    {
      "cell_type": "code",
      "metadata": {
        "id": "YGV07eG4ahzX"
      },
      "source": [
        "res_json = res.json()\n",
        "json_data = res_json[0]"
      ],
      "execution_count": 35,
      "outputs": []
    },
    {
      "cell_type": "code",
      "metadata": {
        "id": "uEaVwhpZY2Ms",
        "outputId": "f5304833-2b8a-4718-9640-bc26f2f23a90",
        "colab": {
          "base_uri": "https://localhost:8080/"
        }
      },
      "source": [
        "pprint(res_json)"
      ],
      "execution_count": 33,
      "outputs": [
        {
          "output_type": "stream",
          "text": [
            "[{'abv': 4.4,\n",
            "  'attenuation_level': 79.5,\n",
            "  'boil_volume': {'unit': 'litres', 'value': 25},\n",
            "  'brewers_tips': 'Let the beer lager at a low temperature for 3-4 weeks '\n",
            "                  'before adding the dry hops.',\n",
            "  'contributed_by': 'Sam Mason <samjbmason>',\n",
            "  'description': 'BrewDog’s level of dry-hop to a beer formed with a baseline '\n",
            "                 'of 100% pilsner malt – and at under 4.5% ABV – gives you a '\n",
            "                 'style that flirts at the edges of several others. Think '\n",
            "                 'aromas of fresh cut grass, nettle, white grape, melon, '\n",
            "                 'tangerine - with similar flavours leading to a dry, bitter '\n",
            "                 'finish.',\n",
            "  'ebc': 12,\n",
            "  'first_brewed': '11/2015',\n",
            "  'food_pairing': ['Tomato and rosemary palmiers',\n",
            "                   'Bratwurst with sauerkraut',\n",
            "                   'Lemon drizzle cake'],\n",
            "  'ibu': 35,\n",
            "  'id': 81,\n",
            "  'image_url': 'https://images.punkapi.com/v2/keg.png',\n",
            "  'ingredients': {'hops': [{'add': 'start',\n",
            "                            'amount': {'unit': 'grams', 'value': 2.5},\n",
            "                            'attribute': 'bitter',\n",
            "                            'name': 'Chinook'},\n",
            "                           {'add': 'end',\n",
            "                            'amount': {'unit': 'grams', 'value': 25},\n",
            "                            'attribute': 'flavour',\n",
            "                            'name': 'Amarillo'},\n",
            "                           {'add': 'end',\n",
            "                            'amount': {'unit': 'grams', 'value': 12.5},\n",
            "                            'attribute': 'flavour',\n",
            "                            'name': 'Simcoe'},\n",
            "                           {'add': 'end',\n",
            "                            'amount': {'unit': 'grams', 'value': 25},\n",
            "                            'attribute': 'flavour',\n",
            "                            'name': 'Citra'},\n",
            "                           {'add': 'end',\n",
            "                            'amount': {'unit': 'grams', 'value': 12.5},\n",
            "                            'attribute': 'flavour',\n",
            "                            'name': 'Mosaic'},\n",
            "                           {'add': 'dry hop',\n",
            "                            'amount': {'unit': 'grams', 'value': 63},\n",
            "                            'attribute': 'flavour',\n",
            "                            'name': 'Amarillo'},\n",
            "                           {'add': 'dry hop',\n",
            "                            'amount': {'unit': 'grams', 'value': 63},\n",
            "                            'attribute': 'flavour',\n",
            "                            'name': 'Simcoe'},\n",
            "                           {'add': 'dry hop',\n",
            "                            'amount': {'unit': 'grams', 'value': 63},\n",
            "                            'attribute': 'aroma',\n",
            "                            'name': 'Citra'}],\n",
            "                  'malt': [{'amount': {'unit': 'kilograms', 'value': 3.25},\n",
            "                            'name': 'Pilsner'},\n",
            "                           {'amount': {'unit': 'kilograms', 'value': 0.38},\n",
            "                            'name': 'Dextrin Malt'}],\n",
            "                  'yeast': 'Wyeast 2007 - Pilsen Lager™'},\n",
            "  'method': {'fermentation': {'temp': {'unit': 'celsius', 'value': 10}},\n",
            "             'mash_temp': [{'duration': 75,\n",
            "                            'temp': {'unit': 'celsius', 'value': 65}}],\n",
            "             'twist': None},\n",
            "  'name': 'India Session Lager - Prototype Challenge',\n",
            "  'ph': 4.4,\n",
            "  'srm': 6,\n",
            "  'tagline': 'Refreshing Hop Fix.',\n",
            "  'target_fg': 1007,\n",
            "  'target_og': 1040,\n",
            "  'volume': {'unit': 'litres', 'value': 20}}]\n"
          ],
          "name": "stdout"
        }
      ]
    },
    {
      "cell_type": "code",
      "metadata": {
        "id": "O9PHMVrjY2jB",
        "outputId": "948afab5-9778-436f-b73b-0d6b5dd1ee3c",
        "colab": {
          "base_uri": "https://localhost:8080/"
        }
      },
      "source": [
        "pprint(list(json_data.keys()))"
      ],
      "execution_count": 40,
      "outputs": [
        {
          "output_type": "stream",
          "text": [
            "['id',\n",
            " 'name',\n",
            " 'tagline',\n",
            " 'first_brewed',\n",
            " 'description',\n",
            " 'image_url',\n",
            " 'abv',\n",
            " 'ibu',\n",
            " 'target_fg',\n",
            " 'target_og',\n",
            " 'ebc',\n",
            " 'srm',\n",
            " 'ph',\n",
            " 'attenuation_level',\n",
            " 'volume',\n",
            " 'boil_volume',\n",
            " 'method',\n",
            " 'ingredients',\n",
            " 'food_pairing',\n",
            " 'brewers_tips',\n",
            " 'contributed_by']\n"
          ],
          "name": "stdout"
        }
      ]
    },
    {
      "cell_type": "code",
      "metadata": {
        "id": "d5KttsP7bZiK"
      },
      "source": [
        ""
      ],
      "execution_count": null,
      "outputs": []
    }
  ]
}