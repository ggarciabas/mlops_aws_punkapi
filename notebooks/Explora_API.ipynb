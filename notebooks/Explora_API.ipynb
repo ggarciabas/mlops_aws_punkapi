{
  "nbformat": 4,
  "nbformat_minor": 2,
  "metadata": {
    "colab": {
      "name": "Explora API.ipynb",
      "provenance": [],
      "authorship_tag": "ABX9TyPti3eCaluQb69duy2AtFqP",
      "include_colab_link": true
    },
    "kernelspec": {
      "name": "python3",
      "display_name": "Python 3"
    },
    "language_info": {
      "name": "python"
    }
  },
  "cells": [
    {
      "cell_type": "markdown",
      "source": [
        "\n",
        "# Explora Punk API\n",
        "<a href=\"https://colab.research.google.com/github/ggarciabas/mlops_aws_punkapi/blob/exp_punkapi/notebooks/Explora_API.ipynb\" target=\"_parent\"><img src=\"https://img.shields.io/badge/Colab-Google?style=for-the-badge&labelColor=white&color=orange&logo=googlecolab\" alt=\"Open In Colab\"/></a>\n",
        "\n",
        "- [Punk API](https://punkapi.com/documentation/v2)\n",
        "- [https://api.punkapi.com/v2/beers/random](https://api.punkapi.com/v2/beers/random)"
      ],
      "metadata": {}
    },
    {
      "cell_type": "code",
      "execution_count": null,
      "source": [],
      "outputs": [],
      "metadata": {
        "id": "wQjO9StMSljt"
      }
    },
    {
      "cell_type": "markdown",
      "source": [],
      "metadata": {}
    }
  ]
}