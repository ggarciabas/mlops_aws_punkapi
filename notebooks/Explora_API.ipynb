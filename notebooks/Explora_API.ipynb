{
  "nbformat": 4,
  "nbformat_minor": 0,
  "metadata": {
    "colab": {
      "name": "Explora API.ipynb",
      "provenance": [],
      "authorship_tag": "ABX9TyPOhbPuvOKuHDaZ9IucH4/M"
    },
    "kernelspec": {
      "name": "python3",
      "display_name": "Python 3"
    },
    "language_info": {
      "name": "python"
    }
  },
  "cells": [
    {
      "cell_type": "markdown",
      "metadata": {
        "id": "iJ6ub4nQWOed"
      },
      "source": [
        "# Explora Punk API\n",
        "<a href=\"https://colab.research.google.com/github/ggarciabas/mlops_aws_punkapi/blob/exp_punkapi/notebooks/Explora_API.ipynb\" target=\"_parent\"><img src=\"https://img.shields.io/badge/Colab-Google?style=for-the-badge&labelColor=white&color=orange&logo=googlecolab\" alt=\"Open In Colab\"/></a>\n",
        "\n",
        "- [Punk API](https://punkapi.com/documentation/v2)\n",
        "- [https://api.punkapi.com/v2/beers/random](https://api.punkapi.com/v2/beers/random)"
      ]
    },
    {
      "cell_type": "markdown",
      "metadata": {
        "id": "-ZndOVxtXJP9"
      },
      "source": [
        "Requisita cerveja aleatória"
      ]
    },
    {
      "cell_type": "code",
      "metadata": {
        "id": "6dtwFyN9WRT6"
      },
      "source": [
        "import requests\n",
        "import json\n",
        "from pprint import pprint"
      ],
      "execution_count": null,
      "outputs": []
    },
    {
      "cell_type": "code",
      "metadata": {
        "id": "vdbdZLPMYsgJ"
      },
      "source": [
        "res = requests.get('https://api.punkapi.com/v2/beers/random')\n"
      ],
      "execution_count": null,
      "outputs": []
    },
    {
      "cell_type": "code",
      "metadata": {
        "id": "YGV07eG4ahzX"
      },
      "source": [
        "res_json = res.json()\n",
        "json_data = res_json[0]"
      ],
      "execution_count": null,
      "outputs": []
    },
    {
      "cell_type": "code",
      "metadata": {
        "colab": {
          "base_uri": "https://localhost:8080/"
        },
        "id": "uEaVwhpZY2Ms",
        "outputId": "f5304833-2b8a-4718-9640-bc26f2f23a90"
      },
      "source": [
        "pprint(res_json)"
      ],
      "execution_count": null,
      "outputs": [
        {
          "output_type": "stream",
          "text": [
            "[{'abv': 4.4,\n",
            "  'attenuation_level': 79.5,\n",
            "  'boil_volume': {'unit': 'litres', 'value': 25},\n",
            "  'brewers_tips': 'Let the beer lager at a low temperature for 3-4 weeks '\n",
            "                  'before adding the dry hops.',\n",
            "  'contributed_by': 'Sam Mason <samjbmason>',\n",
            "  'description': 'BrewDog’s level of dry-hop to a beer formed with a baseline '\n",
            "                 'of 100% pilsner malt – and at under 4.5% ABV – gives you a '\n",
            "                 'style that flirts at the edges of several others. Think '\n",
            "                 'aromas of fresh cut grass, nettle, white grape, melon, '\n",
            "                 'tangerine - with similar flavours leading to a dry, bitter '\n",
            "                 'finish.',\n",
            "  'ebc': 12,\n",
            "  'first_brewed': '11/2015',\n",
            "  'food_pairing': ['Tomato and rosemary palmiers',\n",
            "                   'Bratwurst with sauerkraut',\n",
            "                   'Lemon drizzle cake'],\n",
            "  'ibu': 35,\n",
            "  'id': 81,\n",
            "  'image_url': 'https://images.punkapi.com/v2/keg.png',\n",
            "  'ingredients': {'hops': [{'add': 'start',\n",
            "                            'amount': {'unit': 'grams', 'value': 2.5},\n",
            "                            'attribute': 'bitter',\n",
            "                            'name': 'Chinook'},\n",
            "                           {'add': 'end',\n",
            "                            'amount': {'unit': 'grams', 'value': 25},\n",
            "                            'attribute': 'flavour',\n",
            "                            'name': 'Amarillo'},\n",
            "                           {'add': 'end',\n",
            "                            'amount': {'unit': 'grams', 'value': 12.5},\n",
            "                            'attribute': 'flavour',\n",
            "                            'name': 'Simcoe'},\n",
            "                           {'add': 'end',\n",
            "                            'amount': {'unit': 'grams', 'value': 25},\n",
            "                            'attribute': 'flavour',\n",
            "                            'name': 'Citra'},\n",
            "                           {'add': 'end',\n",
            "                            'amount': {'unit': 'grams', 'value': 12.5},\n",
            "                            'attribute': 'flavour',\n",
            "                            'name': 'Mosaic'},\n",
            "                           {'add': 'dry hop',\n",
            "                            'amount': {'unit': 'grams', 'value': 63},\n",
            "                            'attribute': 'flavour',\n",
            "                            'name': 'Amarillo'},\n",
            "                           {'add': 'dry hop',\n",
            "                            'amount': {'unit': 'grams', 'value': 63},\n",
            "                            'attribute': 'flavour',\n",
            "                            'name': 'Simcoe'},\n",
            "                           {'add': 'dry hop',\n",
            "                            'amount': {'unit': 'grams', 'value': 63},\n",
            "                            'attribute': 'aroma',\n",
            "                            'name': 'Citra'}],\n",
            "                  'malt': [{'amount': {'unit': 'kilograms', 'value': 3.25},\n",
            "                            'name': 'Pilsner'},\n",
            "                           {'amount': {'unit': 'kilograms', 'value': 0.38},\n",
            "                            'name': 'Dextrin Malt'}],\n",
            "                  'yeast': 'Wyeast 2007 - Pilsen Lager™'},\n",
            "  'method': {'fermentation': {'temp': {'unit': 'celsius', 'value': 10}},\n",
            "             'mash_temp': [{'duration': 75,\n",
            "                            'temp': {'unit': 'celsius', 'value': 65}}],\n",
            "             'twist': None},\n",
            "  'name': 'India Session Lager - Prototype Challenge',\n",
            "  'ph': 4.4,\n",
            "  'srm': 6,\n",
            "  'tagline': 'Refreshing Hop Fix.',\n",
            "  'target_fg': 1007,\n",
            "  'target_og': 1040,\n",
            "  'volume': {'unit': 'litres', 'value': 20}}]\n"
          ],
          "name": "stdout"
        }
      ]
    },
    {
      "cell_type": "code",
      "metadata": {
        "colab": {
          "base_uri": "https://localhost:8080/"
        },
        "id": "O9PHMVrjY2jB",
        "outputId": "948afab5-9778-436f-b73b-0d6b5dd1ee3c"
      },
      "source": [
        "pprint(list(json_data.keys()))"
      ],
      "execution_count": null,
      "outputs": [
        {
          "output_type": "stream",
          "text": [
            "['id',\n",
            " 'name',\n",
            " 'tagline',\n",
            " 'first_brewed',\n",
            " 'description',\n",
            " 'image_url',\n",
            " 'abv',\n",
            " 'ibu',\n",
            " 'target_fg',\n",
            " 'target_og',\n",
            " 'ebc',\n",
            " 'srm',\n",
            " 'ph',\n",
            " 'attenuation_level',\n",
            " 'volume',\n",
            " 'boil_volume',\n",
            " 'method',\n",
            " 'ingredients',\n",
            " 'food_pairing',\n",
            " 'brewers_tips',\n",
            " 'contributed_by']\n"
          ],
          "name": "stdout"
        }
      ]
    },
    {
      "cell_type": "markdown",
      "metadata": {
        "id": "Q_8Ckqf674UK"
      },
      "source": [
        "Ingredientes para cerveja:\n",
        "- Tipo de lúpulo\n",
        "- Malte\n",
        "- Fermento\n",
        "- Água\n",
        "\n",
        "International Bitterness Unit (IBU): o IBU mede o potencial de amargor da cerveja [2]. O amargor da cerveja está diretamente relacionado a quantidade de lúpulo.\n",
        "> Em suas pétalas, o lúpulo guarda óleos essenciais que contém os **alfa-ácidos**, durante o processo de fervura esta substância se dissolve e dilui no mosto, e nela está presente o sabor amargo. [2]\n",
        "\n",
        "> Quando a receita leva muito malte, ela se torna mais doce e o sabor amargo fica menos evidente. Mas, mesmo assim, esse mesmo rótulo pode apresentar um IBU alto. [1]\n",
        "\n",
        "> Tem uma relação básica que você pode seguir: entre 10 e 15 IBU você tem à mão uma cerveja pouco amarga. Com algo próximo de 35 IBU temos o sabor do lúpulo mais realçado. Mais de 40 IBU pode-se dizer que é uma cerveja forte, bem lupulada e, portanto, bem amarga. Quando o IBU ultrapasso o 60, sua cerveja é super lupulada e muito amarga. [1]\n",
        "\n",
        "$$IBU = (U*P*A)/V$$\n",
        "\n",
        "- U = Utilização (é algo que definimos através de uma tabela, que leva em conta outros fatores da produção da cerveja)\n",
        "- P = Peso do lúpulo (em mg)\n",
        "- A = Unidades de alfa ácido (em decimal, ex: 6,5% = 0,065)\n",
        "- V = volume de cerveja (em L) [2]\n",
        "\n",
        "Alcohol By Volume (ABV): métrica para indicar o percentual em volume da quantidade de álcool na bebida. Indica o quanto da bebida é álcool e o quanto é água.\n",
        "\n",
        "> O fermento que é adicionado à receita transforma o açúcar em álcool. [1]\n",
        "\n",
        ">  Em linhas gerais, cervejas de baixo teor alcoólico indicam uma variação entre  2,0 a 4,5%. As de médio teor variam entre 4,5 e 6% e fortes são aquelas acima de 6%. [1]\n",
        "\n",
        "Gravidade da cerveja\n",
        "> A gravidade da cerveja nada mais é do que a densidade do líquido comparada à densidade da água. A *inicial* se trata da densidade do mosto. Mosto é o líquido que é a mistura da água com os ingredientes da cerveja, mas que ainda não passou por nenhum processo de produção. Já a gravidade *final* é a densidade da cerveja já pronta para o consumo.[2]\n",
        "\n",
        "- Original Gravity (OG)\n",
        "- Final Gravity (FG)\n",
        "\n",
        "> A densidade de uma cerveja está diretamente ligada ao teor alcóolico dela. Isso porque é usando os cálculos de densidade durante a produção que descobrimos a porcentagem de álcool do líquido! [2]\n",
        "\n",
        "> Quanto maior é a diferença entre a OG e a FG, mais açúcar foi fermentado e transformado em álcool. Ou seja, quanto maior a diferença, maior é o teor alcoólico do produto final! [2]\n",
        "\n",
        "$ABV = (OG-FG)*131,25$\n",
        "\n",
        "Standard Reference Method (SRM): métrica utilizada para classificar a cor da cerveja.\n",
        "\n",
        "> A cor da cerveja deriva principalmente do malte, e existem duas reações químicas principais que geram o escurecimento do líquido: a reação de Maillard e a caramelização. [2]\n",
        "\n",
        "O malte passa por um processo inicial de secagem e torra do grão, quanto mais torrado mais chance de o malte dar cor ao mosto. O açúcar e as proteínas do malte, quando aquecidos, reagem e formam pigmentos escuros (Melanoidinas).\n",
        "\n",
        "> Cervejas mais escuras possuem grão mais torrados ou mais açúcar.\n",
        "\n",
        "![](https://capitaobarley.com.br/wp-content/uploads/2021/03/SRM.jpg)\n",
        "\n",
        "> Enquanto o malte é o ingrediente de onde vem o açúcar a ser fermentado na cerveja e confere seu dulçor, o lúpulo é o contrário: é dessa planta que vem o amargor da bebida. [2]\n",
        "\n",
        "European Brewery Convention: \n",
        "\n",
        "> Esse índice é responsável por definir se uma cerveja é clara ou escura, Para ser considerada clara, ela precisa ter menos de 20 \"unidades de EBC\" (European Brewery Convention – Convenção Europeia Cervejeira). Se ela tiver mais, é considerada escura. [4]\n",
        "\n",
        "pH da água\n",
        "\n",
        "> O pH é uma escala que serve para medir a acidez e/ou a alcalinidade de um meio. Estes números correspondem à quantidade de íons de hidrogênio (H+) presentes no meio, quanto mais íons, mais ácido o meio, e quanto menos íons, mais alcalino. [3]\n",
        "\n",
        "![](https://kasvi.com.br/wp-content/uploads/2019/06/escala-de-ph-2.jpg)\n",
        "\n",
        "> Esta é uma escala logarítmica, ou seja, a variação de um pH 6 para um 5, por exemplo, corresponde a uma variação de 10x, com isso, o pH 5 é 10x mais ácido que o 6, e 100x mais ácido que o 7, e assim por diante. Por isso devemos tomar cuidado pois, uma variação pequena na escala, representa grandes mudanças na realidade.\n",
        "\n",
        "> Quanto maior a quantidade de carbonatos (alcalinidade), maior a capacidade de a água aumentar a acidez. Os grãos de malte possuem uma alta concentração de fosfatos. Quando adicionamos a água no malte o que ocorre é a reação destes fosfatos com os minerais presentes na água resultando na liberação de íons H+, ou seja, ocorre a tendência do mosto ficar ácido. Se a água tiver uma quantidade grande de carbonatos o pH não vai reduzir. [2]\n",
        "\n",
        "\n",
        "**Referências** \n",
        "\n",
        "1. [Você sabe o que significa IBU e ABV de uma cerveja artesanal?](https://www.cervejariacampinas.com.br/blog/voce-sabe-o-que-significa-ibu-e-abv-de-uma-cerveja-artesanal/)\n",
        "1. [OG, FG, IBU e SRM: Entenda as siglas da cerveja!](https://capitaobarley.com.br/gravidade-ibu-srm-entenda-todas-as-medidas-da-cerveja/)\n",
        "1. [PH na Produção da Cerveja Artesanal: Contribuições para o Processo Produtivo](https://kasvi.com.br/ph-cerveja-artesanal/)\n",
        "1. [Wonderland Brewery](https://www.facebook.com/wonderlandbrewery/posts/2006765226118890/)"
      ]
    },
    {
      "cell_type": "code",
      "metadata": {
        "id": "68a_y75Ruczd"
      },
      "source": [
        ""
      ],
      "execution_count": null,
      "outputs": []
    }
  ]
}