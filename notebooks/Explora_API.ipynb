{
  "nbformat": 4,
  "nbformat_minor": 0,
  "metadata": {
    "colab": {
      "name": "Explora API.ipynb",
      "provenance": [],
      "authorship_tag": "ABX9TyPPProc9adfGDUfbMVOaqi3"
    },
    "kernelspec": {
      "name": "python3",
      "display_name": "Python 3"
    },
    "language_info": {
      "name": "python"
    }
  },
  "cells": [
    {
      "cell_type": "markdown",
      "metadata": {
        "id": "iJ6ub4nQWOed"
      },
      "source": [
        "# Explora Punk API\n",
        "<a href=\"https://colab.research.google.com/github/ggarciabas/mlops_aws_punkapi/blob/exp_punkapi/notebooks/Explora_API.ipynb\" target=\"_parent\"><img src=\"https://img.shields.io/badge/Colab-Google?style=for-the-badge&labelColor=white&color=orange&logo=googlecolab\" alt=\"Open In Colab\"/></a>\n",
        "\n",
        "- [Punk API](https://punkapi.com/documentation/v2)\n",
        "- [https://api.punkapi.com/v2/beers/random](https://api.punkapi.com/v2/beers/random)"
      ]
    },
    {
      "cell_type": "markdown",
      "metadata": {
        "id": "-ZndOVxtXJP9"
      },
      "source": [
        "Requisita cerveja aleatória"
      ]
    },
    {
      "cell_type": "code",
      "metadata": {
        "id": "6dtwFyN9WRT6"
      },
      "source": [
        "import requests\n",
        "import json\n",
        "from pprint import pprint"
      ],
      "execution_count": 2,
      "outputs": []
    },
    {
      "cell_type": "code",
      "metadata": {
        "id": "vdbdZLPMYsgJ"
      },
      "source": [
        "res = requests.get('https://api.punkapi.com/v2/beers/random')"
      ],
      "execution_count": null,
      "outputs": []
    },
    {
      "cell_type": "code",
      "metadata": {
        "id": "YGV07eG4ahzX"
      },
      "source": [
        "res_json = res.json()\n",
        "json_data = res_json[0]"
      ],
      "execution_count": null,
      "outputs": []
    },
    {
      "cell_type": "code",
      "metadata": {
        "id": "uEaVwhpZY2Ms"
      },
      "source": [
        "pprint(res_json)"
      ],
      "execution_count": null,
      "outputs": []
    },
    {
      "cell_type": "code",
      "metadata": {
        "id": "O9PHMVrjY2jB"
      },
      "source": [
        "pprint(list(json_data.keys()))"
      ],
      "execution_count": null,
      "outputs": []
    },
    {
      "cell_type": "markdown",
      "metadata": {
        "id": "68q6vP9giXoq"
      },
      "source": [
        "## Exporta dados"
      ]
    },
    {
      "cell_type": "code",
      "metadata": {
        "id": "nCz1dL5qnRS7"
      },
      "source": [
        "! pip install --upgrade pandas"
      ],
      "execution_count": null,
      "outputs": []
    },
    {
      "cell_type": "code",
      "metadata": {
        "id": "DgwpqezsqylZ"
      },
      "source": [
        "import pandas as pd\n",
        "import time\n",
        "resp_list = []"
      ],
      "execution_count": null,
      "outputs": []
    },
    {
      "cell_type": "code",
      "metadata": {
        "id": "62ZQVSdzrCei"
      },
      "source": [
        "total = 0\n",
        "while total<1000:\n",
        "  res = requests.get('https://api.punkapi.com/v2/beers/random')\n",
        "  dic_data = res.json()[0]\n",
        "  if dic_data['ibu']:\n",
        "    resp_list.extend(res.json())\n",
        "    total = total + 1\n",
        "  else:\n",
        "    print (f\"Again, falata {1000-total}\")\n",
        "  time.sleep(1)\n",
        "with open('amostra_1000.json', 'w') as f:\n",
        "  json.dump(resp_list, f)"
      ],
      "execution_count": null,
      "outputs": []
    },
    {
      "cell_type": "markdown",
      "metadata": {
        "id": "Q_8Ckqf674UK"
      },
      "source": [
        "Ingredientes para cerveja:\n",
        "- Tipo de lúpulo\n",
        "- Malte\n",
        "- Fermento\n",
        "- Água\n",
        "\n",
        "International Bitterness Unit (IBU): o IBU mede o potencial de amargor da cerveja [2]. O amargor da cerveja está diretamente relacionado a quantidade de lúpulo.\n",
        "> Em suas pétalas, o lúpulo guarda óleos essenciais que contém os **alfa-ácidos**, durante o processo de fervura esta substância se dissolve e dilui no mosto, e nela está presente o sabor amargo. [2]\n",
        "\n",
        "> Quando a receita leva muito malte, ela se torna mais doce e o sabor amargo fica menos evidente. Mas, mesmo assim, esse mesmo rótulo pode apresentar um IBU alto. [1]\n",
        "\n",
        "> Tem uma relação básica que você pode seguir: entre 10 e 15 IBU você tem à mão uma cerveja pouco amarga. Com algo próximo de 35 IBU temos o sabor do lúpulo mais realçado. Mais de 40 IBU pode-se dizer que é uma cerveja forte, bem lupulada e, portanto, bem amarga. Quando o IBU ultrapasso o 60, sua cerveja é super lupulada e muito amarga. [1]\n",
        "\n",
        "$$IBU = (U*P*A)/V$$\n",
        "\n",
        "- U = Utilização (é algo que definimos através de uma tabela, que leva em conta outros fatores da produção da cerveja)\n",
        "- P = Peso do lúpulo (em mg)\n",
        "- A = Unidades de alfa ácido (em decimal, ex: 6,5% = 0,065)\n",
        "- V = volume de cerveja (em L) [2]\n",
        "\n",
        "Alcohol By Volume (ABV): métrica para indicar o percentual em volume da quantidade de álcool na bebida. Indica o quanto da bebida é álcool e o quanto é água.\n",
        "\n",
        "> O fermento que é adicionado à receita transforma o açúcar em álcool. [1]\n",
        "\n",
        ">  Em linhas gerais, cervejas de baixo teor alcoólico indicam uma variação entre  2,0 a 4,5%. As de médio teor variam entre 4,5 e 6% e fortes são aquelas acima de 6%. [1]\n",
        "\n",
        "Gravidade da cerveja\n",
        "> A gravidade da cerveja nada mais é do que a densidade do líquido comparada à densidade da água. A *inicial* se trata da densidade do mosto. Mosto é o líquido que é a mistura da água com os ingredientes da cerveja, mas que ainda não passou por nenhum processo de produção. Já a gravidade *final* é a densidade da cerveja já pronta para o consumo.[2]\n",
        "\n",
        "- Original Gravity (OG)\n",
        "- Final Gravity (FG)\n",
        "\n",
        "> A densidade de uma cerveja está diretamente ligada ao teor alcóolico dela. Isso porque é usando os cálculos de densidade durante a produção que descobrimos a porcentagem de álcool do líquido! [2]\n",
        "\n",
        "> Quanto maior é a diferença entre a OG e a FG, mais açúcar foi fermentado e transformado em álcool. Ou seja, quanto maior a diferença, maior é o teor alcoólico do produto final! [2]\n",
        "\n",
        "$ABV = (OG-FG)*131,25$\n",
        "\n",
        "Standard Reference Method (SRM): métrica utilizada para classificar a cor da cerveja.\n",
        "\n",
        "> A cor da cerveja deriva principalmente do malte, e existem duas reações químicas principais que geram o escurecimento do líquido: a reação de Maillard e a caramelização. [2]\n",
        "\n",
        "O malte passa por um processo inicial de secagem e torra do grão, quanto mais torrado mais chance de o malte dar cor ao mosto. O açúcar e as proteínas do malte, quando aquecidos, reagem e formam pigmentos escuros (Melanoidinas).\n",
        "\n",
        "> Cervejas mais escuras possuem grão mais torrados ou mais açúcar.\n",
        "\n",
        "![](https://capitaobarley.com.br/wp-content/uploads/2021/03/SRM.jpg)\n",
        "\n",
        "> Enquanto o malte é o ingrediente de onde vem o açúcar a ser fermentado na cerveja e confere seu dulçor, o lúpulo é o contrário: é dessa planta que vem o amargor da bebida. [2]\n",
        "\n",
        "European Brewery Convention: \n",
        "\n",
        "> Esse índice é responsável por definir se uma cerveja é clara ou escura, Para ser considerada clara, ela precisa ter menos de 20 \"unidades de EBC\" (European Brewery Convention – Convenção Europeia Cervejeira). Se ela tiver mais, é considerada escura. [4]\n",
        "\n",
        "pH da água\n",
        "\n",
        "> O pH é uma escala que serve para medir a acidez e/ou a alcalinidade de um meio. Estes números correspondem à quantidade de íons de hidrogênio (H+) presentes no meio, quanto mais íons, mais ácido o meio, e quanto menos íons, mais alcalino. [3]\n",
        "\n",
        "![](https://kasvi.com.br/wp-content/uploads/2019/06/escala-de-ph-2.jpg)\n",
        "\n",
        "> Esta é uma escala logarítmica, ou seja, a variação de um pH 6 para um 5, por exemplo, corresponde a uma variação de 10x, com isso, o pH 5 é 10x mais ácido que o 6, e 100x mais ácido que o 7, e assim por diante. Por isso devemos tomar cuidado pois, uma variação pequena na escala, representa grandes mudanças na realidade.\n",
        "\n",
        "> Quanto maior a quantidade de carbonatos (alcalinidade), maior a capacidade de a água aumentar a acidez. Os grãos de malte possuem uma alta concentração de fosfatos. Quando adicionamos a água no malte o que ocorre é a reação destes fosfatos com os minerais presentes na água resultando na liberação de íons H+, ou seja, ocorre a tendência do mosto ficar ácido. Se a água tiver uma quantidade grande de carbonatos o pH não vai reduzir. [2]\n",
        "\n",
        "\n",
        "**Referências** \n",
        "\n",
        "1. [Você sabe o que significa IBU e ABV de uma cerveja artesanal?](https://www.cervejariacampinas.com.br/blog/voce-sabe-o-que-significa-ibu-e-abv-de-uma-cerveja-artesanal/)\n",
        "1. [OG, FG, IBU e SRM: Entenda as siglas da cerveja!](https://capitaobarley.com.br/gravidade-ibu-srm-entenda-todas-as-medidas-da-cerveja/)\n",
        "1. [PH na Produção da Cerveja Artesanal: Contribuições para o Processo Produtivo](https://kasvi.com.br/ph-cerveja-artesanal/)\n",
        "1. [Wonderland Brewery](https://www.facebook.com/wonderlandbrewery/posts/2006765226118890/)"
      ]
    },
    {
      "cell_type": "code",
      "metadata": {
        "id": "68a_y75Ruczd"
      },
      "source": [
        ""
      ],
      "execution_count": null,
      "outputs": []
    }
  ]
}