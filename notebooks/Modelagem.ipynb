{
  "nbformat": 4,
  "nbformat_minor": 2,
  "metadata": {
    "colab": {
      "name": "Modelagem",
      "provenance": [],
      "authorship_tag": "ABX9TyPti3eCaluQb69duy2AtFqP",
      "include_colab_link": true
    },
    "kernelspec": {
      "name": "python3",
      "display_name": "Python 3"
    },
    "language_info": {
      "name": "python"
    }
  },
  "cells": [
    {
      "cell_type": "markdown",
      "source": [
        "# Modelo para classificar bebidas \n",
        "\n",
        "<a href=\"https://colab.research.google.com/github/ggarciabas/mlops_aws_punkapi/blob/analise/notebooks/Modelagem.ipynb\" target=\"_parent\"><img src=\"https://img.shields.io/badge/Colab-Google?style=for-the-badge&labelColor=white&color=orange&logo=googlecolab\" alt=\"Open In Colab\"/></a>"
      ],
      "metadata": {}
    },
    {
      "cell_type": "markdown",
      "source": [],
      "metadata": {}
    }
  ]
}